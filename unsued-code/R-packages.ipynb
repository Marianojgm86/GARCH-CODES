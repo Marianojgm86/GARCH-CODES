{
 "cells": [
  {
   "cell_type": "markdown",
   "metadata": {},
   "source": [
    "# R packages"
   ]
  },
  {
   "cell_type": "code",
   "execution_count": 1,
   "metadata": {},
   "outputs": [],
   "source": [
    "import numpy as np\n",
    "import pandas as pd\n",
    "import matplotlib.pyplot as plt\n",
    "import seaborn as sns\n",
    "import scipy.stats as stats\n",
    "import statsmodels.api as sm\n",
    "import statsmodels.formula.api as smf\n",
    "from scipy.stats import iqr, norm\n",
    "import statsmodels.stats.api as sms\n",
    "import arch \n",
    "import pmdarima.arima as pm\n",
    "from statsmodels.tsa.arima_model import ARIMA\n",
    "\n",
    "import statsmodels.tsa.seasonal as tsa\n",
    "import statsmodels.graphics.tsaplots as tsap \n",
    "from statsmodels.tsa.stattools import adfuller\n",
    "\n",
    "# Recursive OLS residuals\n",
    "from statsmodels.stats.diagnostic import recursive_olsresiduals\n",
    "from statsmodels.stats.diagnostic import breaks_cusumolsresid\n",
    "import chow_test\n",
    "from scipy import stats\n",
    "import arch\n",
    "\n",
    "\n",
    "from fredapi import Fred\n",
    "fred = Fred(api_key='ca6ea25f72db47e2d070a76b7e9e639b')\n",
    "\n",
    "import warnings\n",
    "warnings.filterwarnings(\"ignore\")\n",
    "np.random.seed(432)"
   ]
  },
  {
   "cell_type": "code",
   "execution_count": 5,
   "metadata": {},
   "outputs": [],
   "source": [
    "# #library to use R in Python \n",
    "# # To start the R session in the notebook\n",
    "# import rpy2\n",
    "\n",
    "# import warnings\n",
    "# warnings.filterwarnings('ignore')\n",
    "\n",
    "# from rpy2.robjects import pandas2ri\n",
    "# import rpy2.rinterface as rinterface\n",
    "# pandas2ri.activate()"
   ]
  },
  {
   "cell_type": "code",
   "execution_count": 2,
   "metadata": {},
   "outputs": [
    {
     "name": "stdout",
     "output_type": "stream",
     "text": [
      "3.5.3\n"
     ]
    }
   ],
   "source": [
    "import rpy2\n",
    "print(rpy2.__version__)"
   ]
  },
  {
   "cell_type": "code",
   "execution_count": 3,
   "metadata": {},
   "outputs": [
    {
     "name": "stderr",
     "output_type": "stream",
     "text": [
      "Unable to determine R home: [WinError 2] The system cannot find the file specified\n"
     ]
    },
    {
     "name": "stdout",
     "output_type": "stream",
     "text": [
      "rpy2 version:\n",
      "3.5.3\n",
      "Python version:\n",
      "3.7.11 (default, Jul 27 2021, 09:42:29) [MSC v.1916 64 bit (AMD64)]\n",
      "Looking for R's HOME:\n",
      "    Environment variable R_HOME: None\n",
      "    InstallPath in the registry: C:\\Program Files\\R\\R-4.0.2\n",
      "    Environment variable R_USER: None\n",
      "    Environment variable R_LIBS_USER: None\n",
      "R version:\n",
      "    In the PATH: R version 4.0.2 (2020-06-22) -- \"Taking Off Again\"\n",
      "    Loading R library from rpy2: OK\n",
      "Additional directories to load R packages from:\n",
      "None\n",
      "C extension compilation:\n",
      "    Warning: Unable to get R compilation flags.\n"
     ]
    }
   ],
   "source": [
    "import rpy2.situation\n",
    "for row in rpy2.situation.iter_info():\n",
    "    print(row)"
   ]
  },
  {
   "cell_type": "code",
   "execution_count": 4,
   "metadata": {},
   "outputs": [],
   "source": [
    "# Importing the top-level sub-package is also initializing and starting R embedded in the current Python process:\n",
    "import rpy2.robjects as robjects"
   ]
  },
  {
   "cell_type": "code",
   "execution_count": 7,
   "metadata": {},
   "outputs": [],
   "source": [
    "from rpy2.robjects.packages import importr\n",
    "# import R's \"base\" package\n",
    "base = importr('base')\n",
    "\n",
    "# import R's \"utils\" package\n",
    "utils = importr('utils')"
   ]
  },
  {
   "cell_type": "markdown",
   "metadata": {},
   "source": [
    "Downloading and installing R packages is usually performed by fetching R packages from a package repository and installing them locally. Capabilities to do this are provided by R libraries, and when in Python we can simply use them using rpy2. An interface to the R features is provided in rpy2.robjects.packages (where the function importr() introduced above is defined)."
   ]
  },
  {
   "cell_type": "code",
   "execution_count": 10,
   "metadata": {},
   "outputs": [
    {
     "data": {
      "text/plain": [
       "<rpy2.rinterface_lib.sexp.NULLType object at 0x0000016821274B08> [RTYPES.NILSXP]"
      ]
     },
     "execution_count": 10,
     "metadata": {},
     "output_type": "execute_result"
    }
   ],
   "source": [
    "# import rpy2's package module\n",
    "import rpy2.robjects.packages as rpackages\n",
    "\n",
    "# import R's utility package\n",
    "utils = rpackages.importr('utils')\n",
    "\n",
    "# select a mirror for R packages\n",
    "utils.chooseCRANmirror(ind=1) # select the first mirror in the list"
   ]
  },
  {
   "cell_type": "code",
   "execution_count": 12,
   "metadata": {},
   "outputs": [],
   "source": [
    "# utils.install_packages('rugarch')"
   ]
  },
  {
   "cell_type": "code",
   "execution_count": 13,
   "metadata": {},
   "outputs": [
    {
     "name": "stderr",
     "output_type": "stream",
     "text": [
      "R[write to console]: Installing package into 'C:/Users/USUARIO/Documents/R/win-library/4.0'\n",
      "(as 'lib' is unspecified)\n",
      "\n",
      "R[write to console]: also installing the dependencies 'gmp', 'Rmpfr', 'bit', 'Bessel', 'ff', 'shape', 'pcaPP', 'corpcor'\n",
      "\n",
      "\n"
     ]
    },
    {
     "name": "stdout",
     "output_type": "stream",
     "text": [
      "\n",
      "  There are binary versions available but the source versions are later:\n",
      "      binary source needs_compilation\n",
      "Rmpfr  0.8-7  0.8-9              TRUE\n",
      "ff     4.0.5  4.0.7              TRUE\n",
      "pcaPP 1.9-74  2.0-2              TRUE\n",
      "\n",
      "  Binaries will be installed\n"
     ]
    },
    {
     "name": "stderr",
     "output_type": "stream",
     "text": [
      "R[write to console]: trying URL 'https://cloud.r-project.org/bin/windows/contrib/4.0/gmp_0.6-5.zip'\n",
      "\n",
      "R[write to console]: Content type 'application/zip'\n",
      "R[write to console]:  length 1221918 bytes (1.2 MB)\n",
      "\n",
      "R[write to console]: downloaded 1.2 MB\n",
      "\n",
      "\n",
      "R[write to console]: trying URL 'https://cloud.r-project.org/bin/windows/contrib/4.0/Rmpfr_0.8-7.zip'\n",
      "\n",
      "R[write to console]: Content type 'application/zip'\n",
      "R[write to console]:  length 1659757 bytes (1.6 MB)\n",
      "\n",
      "R[write to console]: downloaded 1.6 MB\n",
      "\n",
      "\n",
      "R[write to console]: trying URL 'https://cloud.r-project.org/bin/windows/contrib/4.0/bit_4.0.4.zip'\n",
      "\n",
      "R[write to console]: Content type 'application/zip'\n",
      "R[write to console]:  length 630708 bytes (615 KB)\n",
      "\n",
      "R[write to console]: downloaded 615 KB\n",
      "\n",
      "\n",
      "R[write to console]: trying URL 'https://cloud.r-project.org/bin/windows/contrib/4.0/Bessel_0.6-0.zip'\n",
      "\n",
      "R[write to console]: Content type 'application/zip'\n",
      "R[write to console]:  length 304227 bytes (297 KB)\n",
      "\n",
      "R[write to console]: downloaded 297 KB\n",
      "\n",
      "\n",
      "R[write to console]: trying URL 'https://cloud.r-project.org/bin/windows/contrib/4.0/ff_4.0.5.zip'\n",
      "\n",
      "R[write to console]: Content type 'application/zip'\n",
      "R[write to console]:  length 1751159 bytes (1.7 MB)\n",
      "\n",
      "R[write to console]: downloaded 1.7 MB\n",
      "\n",
      "\n",
      "R[write to console]: trying URL 'https://cloud.r-project.org/bin/windows/contrib/4.0/shape_1.4.6.zip'\n",
      "\n",
      "R[write to console]: Content type 'application/zip'\n",
      "R[write to console]:  length 788976 bytes (770 KB)\n",
      "\n",
      "R[write to console]: downloaded 770 KB\n",
      "\n",
      "\n",
      "R[write to console]: trying URL 'https://cloud.r-project.org/bin/windows/contrib/4.0/pcaPP_1.9-74.zip'\n",
      "\n",
      "R[write to console]: Content type 'application/zip'\n",
      "R[write to console]:  length 529628 bytes (517 KB)\n",
      "\n",
      "R[write to console]: downloaded 517 KB\n",
      "\n",
      "\n",
      "R[write to console]: trying URL 'https://cloud.r-project.org/bin/windows/contrib/4.0/corpcor_1.6.10.zip'\n",
      "\n",
      "R[write to console]: Content type 'application/zip'\n",
      "R[write to console]:  length 115009 bytes (112 KB)\n",
      "\n",
      "R[write to console]: downloaded 112 KB\n",
      "\n",
      "\n",
      "R[write to console]: trying URL 'https://cloud.r-project.org/bin/windows/contrib/4.0/rmgarch_1.3-9.zip'\n",
      "\n",
      "R[write to console]: Content type 'application/zip'\n",
      "R[write to console]:  length 3796156 bytes (3.6 MB)\n",
      "\n",
      "R[write to console]: downloaded 3.6 MB\n",
      "\n",
      "\n"
     ]
    },
    {
     "name": "stdout",
     "output_type": "stream",
     "text": [
      "package 'gmp' successfully unpacked and MD5 sums checked\n",
      "package 'Rmpfr' successfully unpacked and MD5 sums checked\n",
      "package 'bit' successfully unpacked and MD5 sums checked\n",
      "package 'Bessel' successfully unpacked and MD5 sums checked\n",
      "package 'ff' successfully unpacked and MD5 sums checked\n",
      "package 'shape' successfully unpacked and MD5 sums checked\n",
      "package 'pcaPP' successfully unpacked and MD5 sums checked\n",
      "package 'corpcor' successfully unpacked and MD5 sums checked\n",
      "package 'rmgarch' successfully unpacked and MD5 sums checked\n",
      "\n",
      "The downloaded binary packages are in\n",
      "\tC:\\Users\\USUARIO\\AppData\\Local\\Temp\\RtmpqqxaaF\\downloaded_packages\n"
     ]
    }
   ],
   "source": [
    "# R package names\n",
    "packnames = ('ggplot2', 'hexbin', 'rmgarch')\n",
    "\n",
    "# R vector of strings\n",
    "from rpy2.robjects.vectors import StrVector\n",
    "\n",
    "# Selectively install what needs to be install.\n",
    "# We are fancy, just because we can.\n",
    "names_to_install = [x for x in packnames if not rpackages.isinstalled(x)]\n",
    "if len(names_to_install) > 0:\n",
    "    utils.install_packages(StrVector(names_to_install))"
   ]
  },
  {
   "cell_type": "code",
   "execution_count": 16,
   "metadata": {},
   "outputs": [
    {
     "data": {
      "text/html": [
       "\n",
       "        <span>FloatVector with 1 elements.</span>\n",
       "        <table>\n",
       "        <tbody>\n",
       "          <tr>\n",
       "          \n",
       "            <td>\n",
       "            18.849556\n",
       "            </td>\n",
       "          \n",
       "          </tr>\n",
       "        </tbody>\n",
       "        </table>\n",
       "        "
      ],
      "text/plain": [
       "<rpy2.robjects.vectors.FloatVector object at 0x0000016826621A48> [RTYPES.REALSXP]\n",
       "R classes: ('numeric',)\n",
       "[18.849556]"
      ]
     },
     "execution_count": 16,
     "metadata": {},
     "output_type": "execute_result"
    }
   ],
   "source": [
    "robjects.r('''\n",
    "        # create a function `f`\n",
    "        f <- function(r, verbose=FALSE) {\n",
    "            if (verbose) {\n",
    "                cat(\"I am calling f().\\n\")\n",
    "            }\n",
    "            2 * pi * r\n",
    "        }\n",
    "        # call the function `f` with argument value 3\n",
    "        f(3)\n",
    "        ''')"
   ]
  },
  {
   "cell_type": "code",
   "execution_count": 18,
   "metadata": {},
   "outputs": [
    {
     "name": "stdout",
     "output_type": "stream",
     "text": [
      "function (r, verbose = FALSE) \n",
      "{\n",
      "    if (verbose) {\n",
      "        cat(\"I am calling f().\\n\")\n",
      "    }\n",
      "    2 * pi * r\n",
      "}\n"
     ]
    }
   ],
   "source": [
    "r_f = robjects.globalenv['f']\n",
    "print(r_f.r_repr())"
   ]
  },
  {
   "cell_type": "code",
   "execution_count": 20,
   "metadata": {},
   "outputs": [
    {
     "data": {
      "text/html": [
       "\n",
       "        <span>FloatVector with 1 elements.</span>\n",
       "        <table>\n",
       "        <tbody>\n",
       "          <tr>\n",
       "          \n",
       "            <td>\n",
       "            25.132741\n",
       "            </td>\n",
       "          \n",
       "          </tr>\n",
       "        </tbody>\n",
       "        </table>\n",
       "        "
      ],
      "text/plain": [
       "<rpy2.robjects.vectors.FloatVector object at 0x000001682139E4C8> [RTYPES.REALSXP]\n",
       "R classes: ('numeric',)\n",
       "[25.132741]"
      ]
     },
     "execution_count": 20,
     "metadata": {},
     "output_type": "execute_result"
    }
   ],
   "source": [
    "r_f(4)"
   ]
  },
  {
   "cell_type": "code",
   "execution_count": 31,
   "metadata": {},
   "outputs": [
    {
     "name": "stdout",
     "output_type": "stream",
     "text": [
      "[1] \"abc\" \"def\"\n",
      "\n",
      "c(\"abc\", \"def\")\n",
      "\n",
      "[1] 1 2 3\n",
      "\n",
      "1:3\n",
      "\n",
      "[1] 1.1 2.2 3.3\n",
      "\n",
      "c(1.1, 2.2, 3.3)\n"
     ]
    }
   ],
   "source": [
    "# Creating rpy2 vectors\n",
    "res = robjects.StrVector(['abc', 'def'])\n",
    "print(res)\n",
    "print(res.r_repr())\n",
    "\n",
    "print(\"\")\n",
    "res = robjects.IntVector([1, 2, 3])\n",
    "print(res[:])\n",
    "print(res.r_repr())\n",
    "\n",
    "print(\"\")\n",
    "res = robjects.FloatVector([1.1, 2.2, 3.3])\n",
    "print(res)\n",
    "print(res.r_repr())\n"
   ]
  },
  {
   "cell_type": "code",
   "execution_count": 33,
   "metadata": {},
   "outputs": [
    {
     "name": "stdout",
     "output_type": "stream",
     "text": [
      "     [,1] [,2]\n",
      "[1,]  1.1  4.4\n",
      "[2,]  2.2  5.5\n",
      "[3,]  3.3  6.6\n",
      "\n"
     ]
    }
   ],
   "source": [
    "# R matrixes and arrays are just vectors with a dim attribute.\n",
    "v = robjects.FloatVector([1.1, 2.2, 3.3, 4.4, 5.5, 6.6])\n",
    "m = robjects.r['matrix'](v, ncol = 2) #nrow = 3\n",
    "print(m)"
   ]
  },
  {
   "cell_type": "code",
   "execution_count": 34,
   "metadata": {},
   "outputs": [
    {
     "data": {
      "text/plain": [
       "6"
      ]
     },
     "execution_count": 34,
     "metadata": {},
     "output_type": "execute_result"
    }
   ],
   "source": [
    "# CALLING R FUNCTIONS\n",
    "rsum = robjects.r['sum']\n",
    "rsum(robjects.IntVector([1,2,3]))[0]"
   ]
  },
  {
   "cell_type": "code",
   "execution_count": 37,
   "metadata": {},
   "outputs": [
    {
     "name": "stdout",
     "output_type": "stream",
     "text": [
      "[1] 3 2 1\n",
      "\n"
     ]
    }
   ],
   "source": [
    "rsort = robjects.r['sort']\n",
    "res = rsort(robjects.IntVector([1,2,3]), decreasing=True)\n",
    "print(res)#.r_repr()"
   ]
  },
  {
   "cell_type": "code",
   "execution_count": 39,
   "metadata": {},
   "outputs": [
    {
     "name": "stderr",
     "output_type": "stream",
     "text": [
      "R[write to console]: starting httpd help server ...\n",
      "R[write to console]:  done\n",
      "\n"
     ]
    },
    {
     "data": {
      "text/plain": [
       "''"
      ]
     },
     "execution_count": 39,
     "metadata": {},
     "output_type": "execute_result"
    }
   ],
   "source": [
    "# Getting help\n",
    "from rpy2.robjects.packages import importr\n",
    "utils = importr(\"utils\")\n",
    "help_doc = utils.help(\"help\")\n",
    "help_doc[0]\n",
    "str(help_doc)"
   ]
  },
  {
   "cell_type": "code",
   "execution_count": 43,
   "metadata": {},
   "outputs": [],
   "source": [
    "# help_where = utils.help_search(\"help\")\n",
    "# help_where"
   ]
  },
  {
   "cell_type": "markdown",
   "metadata": {},
   "source": [
    "Examples"
   ]
  },
  {
   "cell_type": "code",
   "execution_count": 4,
   "metadata": {},
   "outputs": [
    {
     "data": {
      "text/plain": [
       "<rpy2.rinterface_lib.sexp.NULLType object at 0x0000019BCAE41F48> [RTYPES.NILSXP]"
      ]
     },
     "execution_count": 4,
     "metadata": {},
     "output_type": "execute_result"
    }
   ],
   "source": [
    "import rpy2.robjects as robjects\n",
    "\n",
    "r = robjects.r\n",
    "\n",
    "x = robjects.IntVector(range(10))\n",
    "y = r.rnorm(10)\n",
    "\n",
    "r.X11()\n",
    "\n",
    "r.layout(r.matrix(robjects.IntVector([1,2,3,2]), nrow=2, ncol=2))\n",
    "r.plot(r.runif(10), y, xlab=\"runif\", ylab=\"foo/bar\", col=\"red\")"
   ]
  },
  {
   "cell_type": "code",
   "execution_count": 5,
   "metadata": {},
   "outputs": [],
   "source": [
    "import rpy2.robjects as robjects\n",
    "from rpy2.robjects import Formula, Environment\n",
    "from rpy2.robjects.vectors import IntVector, FloatVector\n",
    "from rpy2.robjects.lib import grid\n",
    "from rpy2.robjects.packages import importr, data\n",
    "from rpy2.rinterface_lib.embedded import RRuntimeError\n",
    "import warnings\n",
    "\n",
    "# The R 'print' functionb\n",
    "rprint = robjects.globalenv.find(\"print\")\n",
    "stats = importr('stats')\n",
    "grdevices = importr('grDevices')\n",
    "base = importr('base')\n",
    "datasets = importr('datasets')"
   ]
  },
  {
   "cell_type": "code",
   "execution_count": 6,
   "metadata": {},
   "outputs": [],
   "source": [
    "import math, datetime\n",
    "import rpy2.robjects.lib.ggplot2 as ggplot2\n",
    "import rpy2.robjects as ro\n",
    "from rpy2.robjects.packages import importr\n",
    "base = importr('base')\n",
    "\n",
    "mtcars = data(datasets).fetch('mtcars')['mtcars']"
   ]
  },
  {
   "cell_type": "code",
   "execution_count": 7,
   "metadata": {},
   "outputs": [
    {
     "name": "stderr",
     "output_type": "stream",
     "text": [
      "R[write to console]: `geom_smooth()` using formula 'y ~ x'\n",
      "\n"
     ]
    },
    {
     "ename": "",
     "evalue": "",
     "output_type": "error",
     "traceback": [
      "\u001b[1;31mThe Kernel crashed while executing code in the the current cell or a previous cell. Please review the code in the cell(s) to identify a possible cause of the failure. Click <a href='https://aka.ms/vscodeJupyterKernelCrash'>here</a> for more info. View Jupyter <a href='command:jupyter.viewOutput'>log</a> for further details."
     ]
    }
   ],
   "source": [
    "pp = (ggplot2.ggplot(mtcars) +\n",
    "      ggplot2.aes_string(x='wt', y='mpg', col='factor(cyl)') +\n",
    "      ggplot2.geom_point() +\n",
    "      ggplot2.geom_smooth(ggplot2.aes_string(group = 'cyl'),\n",
    "                          method = 'lm'))\n",
    "pp.plot()"
   ]
  }
 ],
 "metadata": {
  "kernelspec": {
   "display_name": "Python 3.7.11 ('base')",
   "language": "python",
   "name": "python3"
  },
  "language_info": {
   "codemirror_mode": {
    "name": "ipython",
    "version": 3
   },
   "file_extension": ".py",
   "mimetype": "text/x-python",
   "name": "python",
   "nbconvert_exporter": "python",
   "pygments_lexer": "ipython3",
   "version": "3.7.11"
  },
  "orig_nbformat": 4,
  "vscode": {
   "interpreter": {
    "hash": "5eba2f6daac758e0c4eb74cbbf3fd787eaf14bd08a71327f2f2275e3d00aa03b"
   }
  }
 },
 "nbformat": 4,
 "nbformat_minor": 2
}
